{
 "cells": [
  {
   "cell_type": "code",
   "execution_count": 1,
   "metadata": {},
   "outputs": [
    {
     "name": "stdout",
     "output_type": "stream",
     "text": [
      "DEBUG:numba.core.byteflow:bytecode dump:\n",
      ">          0\tNOP(arg=None, lineno=1039)\n",
      "           2\tLOAD_FAST(arg=0, lineno=1042)\n",
      "           4\tLOAD_CONST(arg=1, lineno=1042)\n",
      "           6\tBINARY_SUBSCR(arg=None, lineno=1042)\n",
      "           8\tLOAD_FAST(arg=0, lineno=1042)\n",
      "          10\tLOAD_CONST(arg=2, lineno=1042)\n",
      "          12\tBINARY_SUBSCR(arg=None, lineno=1042)\n",
      "          14\tCOMPARE_OP(arg=4, lineno=1042)\n",
      "          16\tLOAD_FAST(arg=0, lineno=1042)\n",
      "          18\tLOAD_CONST(arg=1, lineno=1042)\n",
      "          20\tBINARY_SUBSCR(arg=None, lineno=1042)\n",
      "          22\tLOAD_FAST(arg=0, lineno=1042)\n",
      "          24\tLOAD_CONST(arg=3, lineno=1042)\n",
      "          26\tBINARY_SUBSCR(arg=None, lineno=1042)\n",
      "          28\tCOMPARE_OP(arg=5, lineno=1042)\n",
      "          30\tBINARY_AND(arg=None, lineno=1042)\n",
      "          32\tRETURN_VALUE(arg=None, lineno=1042)\n",
      "DEBUG:numba.core.byteflow:pending: deque([State(pc_initial=0 nstack_initial=0)])\n",
      "DEBUG:numba.core.byteflow:stack: []\n",
      "DEBUG:numba.core.byteflow:state.pc_initial: State(pc_initial=0 nstack_initial=0)\n",
      "DEBUG:numba.core.byteflow:dispatch pc=0, inst=NOP(arg=None, lineno=1039)\n",
      "DEBUG:numba.core.byteflow:stack []\n",
      "DEBUG:numba.core.byteflow:dispatch pc=2, inst=LOAD_FAST(arg=0, lineno=1042)\n",
      "DEBUG:numba.core.byteflow:stack []\n",
      "DEBUG:numba.core.byteflow:dispatch pc=4, inst=LOAD_CONST(arg=1, lineno=1042)\n",
      "DEBUG:numba.core.byteflow:stack ['$x2.0']\n",
      "DEBUG:numba.core.byteflow:dispatch pc=6, inst=BINARY_SUBSCR(arg=None, lineno=1042)\n",
      "DEBUG:numba.core.byteflow:stack ['$x2.0', '$const4.1']\n",
      "DEBUG:numba.core.byteflow:dispatch pc=8, inst=LOAD_FAST(arg=0, lineno=1042)\n",
      "DEBUG:numba.core.byteflow:stack ['$6binary_subscr.2']\n",
      "DEBUG:numba.core.byteflow:dispatch pc=10, inst=LOAD_CONST(arg=2, lineno=1042)\n",
      "DEBUG:numba.core.byteflow:stack ['$6binary_subscr.2', '$x8.3']\n",
      "DEBUG:numba.core.byteflow:dispatch pc=12, inst=BINARY_SUBSCR(arg=None, lineno=1042)\n",
      "DEBUG:numba.core.byteflow:stack ['$6binary_subscr.2', '$x8.3', '$const10.4']\n",
      "DEBUG:numba.core.byteflow:dispatch pc=14, inst=COMPARE_OP(arg=4, lineno=1042)\n",
      "DEBUG:numba.core.byteflow:stack ['$6binary_subscr.2', '$12binary_subscr.5']\n",
      "DEBUG:numba.core.byteflow:dispatch pc=16, inst=LOAD_FAST(arg=0, lineno=1042)\n",
      "DEBUG:numba.core.byteflow:stack ['$14compare_op.6']\n",
      "DEBUG:numba.core.byteflow:dispatch pc=18, inst=LOAD_CONST(arg=1, lineno=1042)\n",
      "DEBUG:numba.core.byteflow:stack ['$14compare_op.6', '$x16.7']\n",
      "DEBUG:numba.core.byteflow:dispatch pc=20, inst=BINARY_SUBSCR(arg=None, lineno=1042)\n",
      "DEBUG:numba.core.byteflow:stack ['$14compare_op.6', '$x16.7', '$const18.8']\n",
      "DEBUG:numba.core.byteflow:dispatch pc=22, inst=LOAD_FAST(arg=0, lineno=1042)\n",
      "DEBUG:numba.core.byteflow:stack ['$14compare_op.6', '$20binary_subscr.9']\n",
      "DEBUG:numba.core.byteflow:dispatch pc=24, inst=LOAD_CONST(arg=3, lineno=1042)\n",
      "DEBUG:numba.core.byteflow:stack ['$14compare_op.6', '$20binary_subscr.9', '$x22.10']\n",
      "DEBUG:numba.core.byteflow:dispatch pc=26, inst=BINARY_SUBSCR(arg=None, lineno=1042)\n",
      "DEBUG:numba.core.byteflow:stack ['$14compare_op.6', '$20binary_subscr.9', '$x22.10', '$const24.11']\n",
      "DEBUG:numba.core.byteflow:dispatch pc=28, inst=COMPARE_OP(arg=5, lineno=1042)\n",
      "DEBUG:numba.core.byteflow:stack ['$14compare_op.6', '$20binary_subscr.9', '$26binary_subscr.12']\n",
      "DEBUG:numba.core.byteflow:dispatch pc=30, inst=BINARY_AND(arg=None, lineno=1042)\n",
      "DEBUG:numba.core.byteflow:stack ['$14compare_op.6', '$28compare_op.13']\n",
      "DEBUG:numba.core.byteflow:dispatch pc=32, inst=RETURN_VALUE(arg=None, lineno=1042)\n",
      "DEBUG:numba.core.byteflow:stack ['$30binary_and.14']\n",
      "DEBUG:numba.core.byteflow:end state. edges=[]\n",
      "DEBUG:numba.core.byteflow:-------------------------Prune PHIs-------------------------\n",
      "DEBUG:numba.core.byteflow:Used_phis: defaultdict(<class 'set'>, {State(pc_initial=0 nstack_initial=0): set()})\n",
      "DEBUG:numba.core.byteflow:defmap: {}\n",
      "DEBUG:numba.core.byteflow:phismap: defaultdict(<class 'set'>, {})\n",
      "DEBUG:numba.core.byteflow:changing phismap: defaultdict(<class 'set'>, {})\n",
      "DEBUG:numba.core.byteflow:keep phismap: {}\n",
      "DEBUG:numba.core.byteflow:new_out: defaultdict(<class 'dict'>, {})\n",
      "DEBUG:numba.core.byteflow:----------------------DONE Prune PHIs-----------------------\n",
      "DEBUG:numba.core.byteflow:block_infos State(pc_initial=0 nstack_initial=0):\n",
      "AdaptBlockInfo(insts=((0, {}), (2, {'res': '$x2.0'}), (4, {'res': '$const4.1'}), (6, {'index': '$const4.1', 'target': '$x2.0', 'res': '$6binary_subscr.2'}), (8, {'res': '$x8.3'}), (10, {'res': '$const10.4'}), (12, {'index': '$const10.4', 'target': '$x8.3', 'res': '$12binary_subscr.5'}), (14, {'lhs': '$6binary_subscr.2', 'rhs': '$12binary_subscr.5', 'res': '$14compare_op.6'}), (16, {'res': '$x16.7'}), (18, {'res': '$const18.8'}), (20, {'index': '$const18.8', 'target': '$x16.7', 'res': '$20binary_subscr.9'}), (22, {'res': '$x22.10'}), (24, {'res': '$const24.11'}), (26, {'index': '$const24.11', 'target': '$x22.10', 'res': '$26binary_subscr.12'}), (28, {'lhs': '$20binary_subscr.9', 'rhs': '$26binary_subscr.12', 'res': '$28compare_op.13'}), (30, {'lhs': '$14compare_op.6', 'rhs': '$28compare_op.13', 'res': '$30binary_and.14'}), (32, {'retval': '$30binary_and.14', 'castval': '$32return_value.15'})), outgoing_phis={}, blockstack=(), active_try_block=None, outgoing_edgepushed={})\n",
      "DEBUG:numba.core.interpreter:label 0:\n",
      "    x = arg(0, name=x)                       ['x']\n",
      "    $const4.1 = const(int, 0)                ['$const4.1']\n",
      "    $6binary_subscr.2 = getitem(value=x, index=$const4.1, fn=<built-in function getitem>) ['$6binary_subscr.2', '$const4.1', 'x']\n",
      "    $const10.4 = const(int, -1)              ['$const10.4']\n",
      "    $12binary_subscr.5 = getitem(value=x, index=$const10.4, fn=<built-in function getitem>) ['$12binary_subscr.5', '$const10.4', 'x']\n",
      "    $14compare_op.6 = $6binary_subscr.2 > $12binary_subscr.5 ['$12binary_subscr.5', '$14compare_op.6', '$6binary_subscr.2']\n",
      "    $const18.8 = const(int, 0)               ['$const18.8']\n",
      "    $20binary_subscr.9 = getitem(value=x, index=$const18.8, fn=<built-in function getitem>) ['$20binary_subscr.9', '$const18.8', 'x']\n",
      "    $const24.11 = const(int, 1)              ['$const24.11']\n",
      "    $26binary_subscr.12 = getitem(value=x, index=$const24.11, fn=<built-in function getitem>) ['$26binary_subscr.12', '$const24.11', 'x']\n",
      "    $28compare_op.13 = $20binary_subscr.9 >= $26binary_subscr.12 ['$20binary_subscr.9', '$26binary_subscr.12', '$28compare_op.13']\n",
      "    $30binary_and.14 = $14compare_op.6 & $28compare_op.13 ['$14compare_op.6', '$28compare_op.13', '$30binary_and.14']\n",
      "    $32return_value.15 = cast(value=$30binary_and.14) ['$30binary_and.14', '$32return_value.15']\n",
      "    return $32return_value.15                ['$32return_value.15']\n",
      "\n",
      "DEBUG:numba.core.byteflow:bytecode dump:\n",
      ">          0\tNOP(arg=None, lineno=1045)\n",
      "           2\tLOAD_FAST(arg=0, lineno=1048)\n",
      "           4\tLOAD_CONST(arg=1, lineno=1048)\n",
      "           6\tBINARY_SUBSCR(arg=None, lineno=1048)\n",
      "           8\tLOAD_FAST(arg=0, lineno=1048)\n",
      "          10\tLOAD_CONST(arg=2, lineno=1048)\n",
      "          12\tBINARY_SUBSCR(arg=None, lineno=1048)\n",
      "          14\tCOMPARE_OP(arg=0, lineno=1048)\n",
      "          16\tLOAD_FAST(arg=0, lineno=1048)\n",
      "          18\tLOAD_CONST(arg=1, lineno=1048)\n",
      "          20\tBINARY_SUBSCR(arg=None, lineno=1048)\n",
      "          22\tLOAD_FAST(arg=0, lineno=1048)\n",
      "          24\tLOAD_CONST(arg=3, lineno=1048)\n",
      "          26\tBINARY_SUBSCR(arg=None, lineno=1048)\n",
      "          28\tCOMPARE_OP(arg=1, lineno=1048)\n",
      "          30\tBINARY_AND(arg=None, lineno=1048)\n",
      "          32\tRETURN_VALUE(arg=None, lineno=1048)\n",
      "DEBUG:numba.core.byteflow:pending: deque([State(pc_initial=0 nstack_initial=0)])\n",
      "DEBUG:numba.core.byteflow:stack: []\n",
      "DEBUG:numba.core.byteflow:state.pc_initial: State(pc_initial=0 nstack_initial=0)\n",
      "DEBUG:numba.core.byteflow:dispatch pc=0, inst=NOP(arg=None, lineno=1045)\n",
      "DEBUG:numba.core.byteflow:stack []\n",
      "DEBUG:numba.core.byteflow:dispatch pc=2, inst=LOAD_FAST(arg=0, lineno=1048)\n",
      "DEBUG:numba.core.byteflow:stack []\n",
      "DEBUG:numba.core.byteflow:dispatch pc=4, inst=LOAD_CONST(arg=1, lineno=1048)\n",
      "DEBUG:numba.core.byteflow:stack ['$x2.0']\n",
      "DEBUG:numba.core.byteflow:dispatch pc=6, inst=BINARY_SUBSCR(arg=None, lineno=1048)\n",
      "DEBUG:numba.core.byteflow:stack ['$x2.0', '$const4.1']\n",
      "DEBUG:numba.core.byteflow:dispatch pc=8, inst=LOAD_FAST(arg=0, lineno=1048)\n",
      "DEBUG:numba.core.byteflow:stack ['$6binary_subscr.2']\n",
      "DEBUG:numba.core.byteflow:dispatch pc=10, inst=LOAD_CONST(arg=2, lineno=1048)\n",
      "DEBUG:numba.core.byteflow:stack ['$6binary_subscr.2', '$x8.3']\n",
      "DEBUG:numba.core.byteflow:dispatch pc=12, inst=BINARY_SUBSCR(arg=None, lineno=1048)\n",
      "DEBUG:numba.core.byteflow:stack ['$6binary_subscr.2', '$x8.3', '$const10.4']\n",
      "DEBUG:numba.core.byteflow:dispatch pc=14, inst=COMPARE_OP(arg=0, lineno=1048)\n",
      "DEBUG:numba.core.byteflow:stack ['$6binary_subscr.2', '$12binary_subscr.5']\n",
      "DEBUG:numba.core.byteflow:dispatch pc=16, inst=LOAD_FAST(arg=0, lineno=1048)\n",
      "DEBUG:numba.core.byteflow:stack ['$14compare_op.6']\n",
      "DEBUG:numba.core.byteflow:dispatch pc=18, inst=LOAD_CONST(arg=1, lineno=1048)\n",
      "DEBUG:numba.core.byteflow:stack ['$14compare_op.6', '$x16.7']\n",
      "DEBUG:numba.core.byteflow:dispatch pc=20, inst=BINARY_SUBSCR(arg=None, lineno=1048)\n",
      "DEBUG:numba.core.byteflow:stack ['$14compare_op.6', '$x16.7', '$const18.8']\n",
      "DEBUG:numba.core.byteflow:dispatch pc=22, inst=LOAD_FAST(arg=0, lineno=1048)\n",
      "DEBUG:numba.core.byteflow:stack ['$14compare_op.6', '$20binary_subscr.9']\n",
      "DEBUG:numba.core.byteflow:dispatch pc=24, inst=LOAD_CONST(arg=3, lineno=1048)\n",
      "DEBUG:numba.core.byteflow:stack ['$14compare_op.6', '$20binary_subscr.9', '$x22.10']\n",
      "DEBUG:numba.core.byteflow:dispatch pc=26, inst=BINARY_SUBSCR(arg=None, lineno=1048)\n",
      "DEBUG:numba.core.byteflow:stack ['$14compare_op.6', '$20binary_subscr.9', '$x22.10', '$const24.11']\n",
      "DEBUG:numba.core.byteflow:dispatch pc=28, inst=COMPARE_OP(arg=1, lineno=1048)\n",
      "DEBUG:numba.core.byteflow:stack ['$14compare_op.6', '$20binary_subscr.9', '$26binary_subscr.12']\n",
      "DEBUG:numba.core.byteflow:dispatch pc=30, inst=BINARY_AND(arg=None, lineno=1048)\n",
      "DEBUG:numba.core.byteflow:stack ['$14compare_op.6', '$28compare_op.13']\n",
      "DEBUG:numba.core.byteflow:dispatch pc=32, inst=RETURN_VALUE(arg=None, lineno=1048)\n",
      "DEBUG:numba.core.byteflow:stack ['$30binary_and.14']\n",
      "DEBUG:numba.core.byteflow:end state. edges=[]\n",
      "DEBUG:numba.core.byteflow:-------------------------Prune PHIs-------------------------\n",
      "DEBUG:numba.core.byteflow:Used_phis: defaultdict(<class 'set'>, {State(pc_initial=0 nstack_initial=0): set()})\n",
      "DEBUG:numba.core.byteflow:defmap: {}\n",
      "DEBUG:numba.core.byteflow:phismap: defaultdict(<class 'set'>, {})\n",
      "DEBUG:numba.core.byteflow:changing phismap: defaultdict(<class 'set'>, {})\n",
      "DEBUG:numba.core.byteflow:keep phismap: {}\n",
      "DEBUG:numba.core.byteflow:new_out: defaultdict(<class 'dict'>, {})\n",
      "DEBUG:numba.core.byteflow:----------------------DONE Prune PHIs-----------------------\n",
      "DEBUG:numba.core.byteflow:block_infos State(pc_initial=0 nstack_initial=0):\n",
      "AdaptBlockInfo(insts=((0, {}), (2, {'res': '$x2.0'}), (4, {'res': '$const4.1'}), (6, {'index': '$const4.1', 'target': '$x2.0', 'res': '$6binary_subscr.2'}), (8, {'res': '$x8.3'}), (10, {'res': '$const10.4'}), (12, {'index': '$const10.4', 'target': '$x8.3', 'res': '$12binary_subscr.5'}), (14, {'lhs': '$6binary_subscr.2', 'rhs': '$12binary_subscr.5', 'res': '$14compare_op.6'}), (16, {'res': '$x16.7'}), (18, {'res': '$const18.8'}), (20, {'index': '$const18.8', 'target': '$x16.7', 'res': '$20binary_subscr.9'}), (22, {'res': '$x22.10'}), (24, {'res': '$const24.11'}), (26, {'index': '$const24.11', 'target': '$x22.10', 'res': '$26binary_subscr.12'}), (28, {'lhs': '$20binary_subscr.9', 'rhs': '$26binary_subscr.12', 'res': '$28compare_op.13'}), (30, {'lhs': '$14compare_op.6', 'rhs': '$28compare_op.13', 'res': '$30binary_and.14'}), (32, {'retval': '$30binary_and.14', 'castval': '$32return_value.15'})), outgoing_phis={}, blockstack=(), active_try_block=None, outgoing_edgepushed={})\n",
      "DEBUG:numba.core.interpreter:label 0:\n",
      "    x = arg(0, name=x)                       ['x']\n",
      "    $const4.1 = const(int, 0)                ['$const4.1']\n",
      "    $6binary_subscr.2 = getitem(value=x, index=$const4.1, fn=<built-in function getitem>) ['$6binary_subscr.2', '$const4.1', 'x']\n",
      "    $const10.4 = const(int, -1)              ['$const10.4']\n",
      "    $12binary_subscr.5 = getitem(value=x, index=$const10.4, fn=<built-in function getitem>) ['$12binary_subscr.5', '$const10.4', 'x']\n",
      "    $14compare_op.6 = $6binary_subscr.2 < $12binary_subscr.5 ['$12binary_subscr.5', '$14compare_op.6', '$6binary_subscr.2']\n",
      "    $const18.8 = const(int, 0)               ['$const18.8']\n",
      "    $20binary_subscr.9 = getitem(value=x, index=$const18.8, fn=<built-in function getitem>) ['$20binary_subscr.9', '$const18.8', 'x']\n",
      "    $const24.11 = const(int, 1)              ['$const24.11']\n",
      "    $26binary_subscr.12 = getitem(value=x, index=$const24.11, fn=<built-in function getitem>) ['$26binary_subscr.12', '$const24.11', 'x']\n",
      "    $28compare_op.13 = $20binary_subscr.9 <= $26binary_subscr.12 ['$20binary_subscr.9', '$26binary_subscr.12', '$28compare_op.13']\n",
      "    $30binary_and.14 = $14compare_op.6 & $28compare_op.13 ['$14compare_op.6', '$28compare_op.13', '$30binary_and.14']\n",
      "    $32return_value.15 = cast(value=$30binary_and.14) ['$30binary_and.14', '$32return_value.15']\n",
      "    return $32return_value.15                ['$32return_value.15']\n",
      "\n"
     ]
    }
   ],
   "source": [
    "%matplotlib inline\n",
    "import matplotlib.pyplot as plt\n",
    "import IPython.display as ipd\n",
    "\n",
    "import os\n",
    "import json\n",
    "import math\n",
    "import torch\n",
    "from torch import nn\n",
    "from torch.nn import functional as F\n",
    "from torch.utils.data import DataLoader\n",
    "\n",
    "import commons\n",
    "import utils\n",
    "from data_utils import TextAudioLoader, TextAudioCollate, TextAudioSpeakerLoader, TextAudioSpeakerCollate\n",
    "from models import SynthesizerTrn\n",
    "from text.symbols import symbols\n",
    "from text import text_to_sequence\n",
    "\n",
    "from scipy.io.wavfile import write\n",
    "\n",
    "\n",
    "def get_text(text, hps):\n",
    "    text_norm = text_to_sequence(text, hps.data.text_cleaners)\n",
    "    if hps.data.add_blank:\n",
    "        text_norm = commons.intersperse(text_norm, 0)\n",
    "    text_norm = torch.LongTensor(text_norm)\n",
    "    return text_norm"
   ]
  },
  {
   "cell_type": "markdown",
   "metadata": {},
   "source": [
    "## LJ Speech"
   ]
  },
  {
   "cell_type": "code",
   "execution_count": 2,
   "metadata": {},
   "outputs": [],
   "source": [
    "hps = utils.get_hparams_from_file(\"./configs/ljs_base.json\")"
   ]
  },
  {
   "cell_type": "code",
   "execution_count": null,
   "metadata": {},
   "outputs": [],
   "source": [
    "net_g = SynthesizerTrn(\n",
    "    len(symbols),\n",
    "    hps.data.filter_length // 2 + 1,\n",
    "    hps.train.segment_size // hps.data.hop_length,\n",
    "    **hps.model).cuda()\n",
    "_ = net_g.eval()\n",
    "\n",
    "_ = utils.load_checkpoint(\"/path/to/pretrained_ljs.pth\", net_g, None)"
   ]
  },
  {
   "cell_type": "code",
   "execution_count": null,
   "metadata": {},
   "outputs": [],
   "source": [
    "stn_tst = get_text(\"VITS is Awesome!\", hps)\n",
    "with torch.no_grad():\n",
    "    x_tst = stn_tst.cuda().unsqueeze(0)\n",
    "    x_tst_lengths = torch.LongTensor([stn_tst.size(0)]).cuda()\n",
    "    audio = net_g.infer(x_tst, x_tst_lengths, noise_scale=.667, noise_scale_w=0.8, length_scale=1)[0][0,0].data.cpu().float().numpy()\n",
    "ipd.display(ipd.Audio(audio, rate=hps.data.sampling_rate, normalize=False))"
   ]
  },
  {
   "cell_type": "markdown",
   "metadata": {},
   "source": [
    "## VCTK"
   ]
  },
  {
   "cell_type": "code",
   "execution_count": 2,
   "metadata": {},
   "outputs": [],
   "source": [
    "hps = utils.get_hparams_from_file(\"./configs/vctk_base.json\")"
   ]
  },
  {
   "cell_type": "code",
   "execution_count": 3,
   "metadata": {},
   "outputs": [
    {
     "name": "stderr",
     "output_type": "stream",
     "text": [
      "/home/ydoit/AIGC/vits-tts/vits-tts/lib/python3.10/site-packages/torch/nn/utils/weight_norm.py:28: UserWarning: torch.nn.utils.weight_norm is deprecated in favor of torch.nn.utils.parametrizations.weight_norm.\n",
      "  warnings.warn(\"torch.nn.utils.weight_norm is deprecated in favor of torch.nn.utils.parametrizations.weight_norm.\")\n"
     ]
    },
    {
     "name": "stdout",
     "output_type": "stream",
     "text": [
      "INFO:root:Loaded checkpoint './pretrained_vctk.pth' (iteration 0)\n"
     ]
    }
   ],
   "source": [
    "# torch.cuda.set_device(0)\n",
    "net_g = SynthesizerTrn(\n",
    "    len(symbols),\n",
    "    hps.data.filter_length // 2 + 1,\n",
    "    hps.train.segment_size // hps.data.hop_length,\n",
    "    n_speakers=hps.data.n_speakers,\n",
    "    **hps.model).cuda()\n",
    "_ = net_g.eval()\n",
    "\n",
    "_ = utils.load_checkpoint(\"./pretrained_vctk.pth\", net_g, None)"
   ]
  },
  {
   "cell_type": "code",
   "execution_count": 9,
   "metadata": {},
   "outputs": [],
   "source": [
    "en_fix_path='/home/ydoit/AIGC/Raw-EN/en_normal_fix.txt'\n",
    "en_random_path='/home/ydoit/AIGC/Raw-EN/en_normal_random.txt'\n",
    "with open(en_fix_path, 'r') as f:\n",
    "    en_fix = f.readlines()\n",
    "# en_random = open(en_random_path, 'r').readlines()[900,1000]\n",
    "with open(en_random_path, 'r') as f:\n",
    "    en_random = f.readlines()[900:1000]"
   ]
  },
  {
   "cell_type": "code",
   "execution_count": 10,
   "metadata": {},
   "outputs": [
    {
     "name": "stdout",
     "output_type": "stream",
     "text": [
      "WARNING:phonemizer:words count mismatch on 100.0% of the lines (1/1)\n",
      "WARNING:phonemizer:words count mismatch on 100.0% of the lines (1/1)\n",
      "WARNING:phonemizer:words count mismatch on 100.0% of the lines (1/1)\n",
      "WARNING:phonemizer:words count mismatch on 100.0% of the lines (1/1)\n",
      "WARNING:phonemizer:words count mismatch on 100.0% of the lines (1/1)\n",
      "WARNING:phonemizer:words count mismatch on 100.0% of the lines (1/1)\n",
      "WARNING:phonemizer:words count mismatch on 100.0% of the lines (1/1)\n",
      "WARNING:phonemizer:words count mismatch on 100.0% of the lines (1/1)\n",
      "WARNING:phonemizer:words count mismatch on 100.0% of the lines (1/1)\n",
      "WARNING:phonemizer:words count mismatch on 100.0% of the lines (1/1)\n",
      "WARNING:phonemizer:words count mismatch on 100.0% of the lines (1/1)\n",
      "WARNING:phonemizer:words count mismatch on 100.0% of the lines (1/1)\n",
      "WARNING:phonemizer:words count mismatch on 100.0% of the lines (1/1)\n",
      "WARNING:phonemizer:words count mismatch on 100.0% of the lines (1/1)\n",
      "WARNING:phonemizer:words count mismatch on 100.0% of the lines (1/1)\n",
      "WARNING:phonemizer:words count mismatch on 100.0% of the lines (1/1)\n",
      "WARNING:phonemizer:words count mismatch on 100.0% of the lines (1/1)\n",
      "WARNING:phonemizer:words count mismatch on 100.0% of the lines (1/1)\n",
      "WARNING:phonemizer:words count mismatch on 100.0% of the lines (1/1)\n"
     ]
    },
    {
     "name": "stderr",
     "output_type": "stream",
     "text": [
      "/home/ydoit/AIGC/vits-tts/vits-tts/lib/python3.10/site-packages/torch/nn/modules/conv.py:306: UserWarning: Plan failed with a cudnnException: CUDNN_BACKEND_EXECUTION_PLAN_DESCRIPTOR: cudnnFinalize Descriptor Failed cudnn_status: CUDNN_STATUS_NOT_SUPPORTED (Triggered internally at ../aten/src/ATen/native/cudnn/Conv_v8.cpp:919.)\n",
      "  return F.conv1d(input, weight, bias, self.stride,\n"
     ]
    },
    {
     "name": "stdout",
     "output_type": "stream",
     "text": [
      "WARNING:phonemizer:words count mismatch on 100.0% of the lines (1/1)\n",
      "WARNING:phonemizer:words count mismatch on 100.0% of the lines (1/1)\n",
      "WARNING:phonemizer:words count mismatch on 100.0% of the lines (1/1)\n",
      "WARNING:phonemizer:words count mismatch on 100.0% of the lines (1/1)\n",
      "WARNING:phonemizer:words count mismatch on 100.0% of the lines (1/1)\n",
      "WARNING:phonemizer:words count mismatch on 100.0% of the lines (1/1)\n",
      "WARNING:phonemizer:words count mismatch on 100.0% of the lines (1/1)\n",
      "WARNING:phonemizer:words count mismatch on 100.0% of the lines (1/1)\n",
      "WARNING:phonemizer:words count mismatch on 100.0% of the lines (1/1)\n",
      "WARNING:phonemizer:words count mismatch on 100.0% of the lines (1/1)\n",
      "WARNING:phonemizer:words count mismatch on 100.0% of the lines (1/1)\n",
      "WARNING:phonemizer:words count mismatch on 100.0% of the lines (1/1)\n",
      "WARNING:phonemizer:words count mismatch on 100.0% of the lines (1/1)\n",
      "WARNING:phonemizer:words count mismatch on 100.0% of the lines (1/1)\n",
      "WARNING:phonemizer:words count mismatch on 100.0% of the lines (1/1)\n",
      "WARNING:phonemizer:words count mismatch on 100.0% of the lines (1/1)\n",
      "WARNING:phonemizer:words count mismatch on 100.0% of the lines (1/1)\n",
      "WARNING:phonemizer:words count mismatch on 100.0% of the lines (1/1)\n",
      "WARNING:phonemizer:words count mismatch on 100.0% of the lines (1/1)\n",
      "WARNING:phonemizer:words count mismatch on 100.0% of the lines (1/1)\n",
      "WARNING:phonemizer:words count mismatch on 100.0% of the lines (1/1)\n",
      "WARNING:phonemizer:words count mismatch on 100.0% of the lines (1/1)\n",
      "WARNING:phonemizer:words count mismatch on 100.0% of the lines (1/1)\n",
      "WARNING:phonemizer:words count mismatch on 100.0% of the lines (1/1)\n",
      "WARNING:phonemizer:words count mismatch on 100.0% of the lines (1/1)\n"
     ]
    }
   ],
   "source": [
    "import soundfile as sf\n",
    "for i in range(100):\n",
    "    en_fix_text= en_fix[i]\n",
    "    fix_stn_tst = get_text(en_fix_text, hps)\n",
    "    en_random_text= en_random[i]\n",
    "    random_stn_tst = get_text(en_random_text, hps)\n",
    "    sp_index=int(i/10)+1\n",
    "    t_index=int(i%10)+1\n",
    "    with torch.no_grad():\n",
    "        fix_x_tst = fix_stn_tst.cuda().unsqueeze(0)\n",
    "        fix_x_tst_lengths = torch.LongTensor([fix_stn_tst.size(0)]).cuda()\n",
    "        sid = torch.LongTensor([sp_index+12]).cuda()\n",
    "        fix_audio = net_g.infer(fix_x_tst, fix_x_tst_lengths, sid=sid, noise_scale=.667, noise_scale_w=0.8, length_scale=1)[0][0,0].data.cpu().float().numpy()\n",
    "        random_x_tst = random_stn_tst.cuda().unsqueeze(0)\n",
    "        random_x_tst_lengths = torch.LongTensor([random_stn_tst.size(0)]).cuda()\n",
    "        # sid = torch.LongTensor([sp_index+12]).cuda()\n",
    "        random_audio = net_g.infer(random_x_tst,random_x_tst_lengths, sid=sid, noise_scale=.667, noise_scale_w=0.8, length_scale=1)[0][0,0].data.cpu().float().numpy()\n",
    "    sf.write(f'/home/ydoit/AIGC/vits-tts/vits/output/fix/en/speaker{sp_index}/audio{t_index}.wav', fix_audio, hps.data.sampling_rate)\n",
    "    sf.write(f'/home/ydoit/AIGC/vits-tts/vits/output/random/en/speaker{sp_index}/audio{t_index}.wav', random_audio, hps.data.sampling_rate)\n",
    "    with open(f'/home/ydoit/AIGC/vits-tts/vits/output/fix/en/speaker{sp_index}/audio{t_index}.txt','w') as f:\n",
    "        f.write(en_fix_text)\n",
    "    with open(f'/home/ydoit/AIGC/vits-tts/vits/output/random/en/speaker{sp_index}/audio{t_index}.txt','w') as f:\n",
    "        f.write(en_random_text)\n"
   ]
  },
  {
   "cell_type": "code",
   "execution_count": 10,
   "metadata": {},
   "outputs": [
    {
     "name": "stdout",
     "output_type": "stream",
     "text": [
      "22050\n"
     ]
    }
   ],
   "source": [
    "print(hps.data.sampling_rate)"
   ]
  },
  {
   "cell_type": "markdown",
   "metadata": {},
   "source": [
    "### Voice Conversion"
   ]
  },
  {
   "cell_type": "code",
   "execution_count": null,
   "metadata": {},
   "outputs": [],
   "source": [
    "dataset = TextAudioSpeakerLoader(hps.data.validation_files, hps.data)\n",
    "collate_fn = TextAudioSpeakerCollate()\n",
    "loader = DataLoader(dataset, num_workers=8, shuffle=False,\n",
    "    batch_size=1, pin_memory=True,\n",
    "    drop_last=True, collate_fn=collate_fn)\n",
    "data_list = list(loader)"
   ]
  },
  {
   "cell_type": "code",
   "execution_count": null,
   "metadata": {},
   "outputs": [],
   "source": [
    "with torch.no_grad():\n",
    "    x, x_lengths, spec, spec_lengths, y, y_lengths, sid_src = [x.cuda() for x in data_list[0]]\n",
    "    sid_tgt1 = torch.LongTensor([1]).cuda()\n",
    "    sid_tgt2 = torch.LongTensor([2]).cuda()\n",
    "    sid_tgt3 = torch.LongTensor([4]).cuda()\n",
    "    audio1 = net_g.voice_conversion(spec, spec_lengths, sid_src=sid_src, sid_tgt=sid_tgt1)[0][0,0].data.cpu().float().numpy()\n",
    "    audio2 = net_g.voice_conversion(spec, spec_lengths, sid_src=sid_src, sid_tgt=sid_tgt2)[0][0,0].data.cpu().float().numpy()\n",
    "    audio3 = net_g.voice_conversion(spec, spec_lengths, sid_src=sid_src, sid_tgt=sid_tgt3)[0][0,0].data.cpu().float().numpy()\n",
    "print(\"Original SID: %d\" % sid_src.item())\n",
    "ipd.display(ipd.Audio(y[0].cpu().numpy(), rate=hps.data.sampling_rate, normalize=False))\n",
    "print(\"Converted SID: %d\" % sid_tgt1.item())\n",
    "ipd.display(ipd.Audio(audio1, rate=hps.data.sampling_rate, normalize=False))\n",
    "print(\"Converted SID: %d\" % sid_tgt2.item())\n",
    "ipd.display(ipd.Audio(audio2, rate=hps.data.sampling_rate, normalize=False))\n",
    "print(\"Converted SID: %d\" % sid_tgt3.item())\n",
    "ipd.display(ipd.Audio(audio3, rate=hps.data.sampling_rate, normalize=False))"
   ]
  }
 ],
 "metadata": {
  "kernelspec": {
   "display_name": "Python 3",
   "language": "python",
   "name": "python3"
  },
  "language_info": {
   "codemirror_mode": {
    "name": "ipython",
    "version": 3
   },
   "file_extension": ".py",
   "mimetype": "text/x-python",
   "name": "python",
   "nbconvert_exporter": "python",
   "pygments_lexer": "ipython3",
   "version": "3.10.12"
  }
 },
 "nbformat": 4,
 "nbformat_minor": 4
}
